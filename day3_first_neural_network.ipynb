{
  "nbformat": 4,
  "nbformat_minor": 0,
  "metadata": {
    "colab": {
      "provenance": [],
      "authorship_tag": "ABX9TyPbvc9o4D/7lrv5tC7JAQlE",
      "include_colab_link": true
    },
    "kernelspec": {
      "name": "python3",
      "display_name": "Python 3"
    },
    "language_info": {
      "name": "python"
    }
  },
  "cells": [
    {
      "cell_type": "markdown",
      "metadata": {
        "id": "view-in-github",
        "colab_type": "text"
      },
      "source": [
        "<a href=\"https://colab.research.google.com/github/anseeafatima/week1-image-classifier/blob/main/day3_first_neural_network.ipynb\" target=\"_parent\"><img src=\"https://colab.research.google.com/assets/colab-badge.svg\" alt=\"Open In Colab\"/></a>"
      ]
    },
    {
      "cell_type": "code",
      "source": [
        "import matplotlib.pyplot as plt\n",
        "import numpy as np\n",
        "\n",
        "# Helper function to show images\n",
        "def imshow(img):\n",
        "    img = img / 2 + 0.5     # unnormalize (since we normalized earlier)\n",
        "    npimg = img.numpy()\n",
        "    plt.imshow(np.transpose(npimg, (1, 2, 0)), cmap=\"gray\")\n",
        "    plt.show()\n"
      ],
      "metadata": {
        "id": "rIUTLmfVnGDa"
      },
      "execution_count": 7,
      "outputs": []
    },
    {
      "cell_type": "code",
      "execution_count": 1,
      "metadata": {
        "colab": {
          "base_uri": "https://localhost:8080/"
        },
        "id": "im5od5QDlnMz",
        "outputId": "ca47219f-35a5-4c88-b0fe-ba87a2885330"
      },
      "outputs": [
        {
          "output_type": "stream",
          "name": "stdout",
          "text": [
            "Net(\n",
            "  (fc1): Linear(in_features=784, out_features=128, bias=True)\n",
            "  (fc2): Linear(in_features=128, out_features=64, bias=True)\n",
            "  (fc3): Linear(in_features=64, out_features=10, bias=True)\n",
            ")\n"
          ]
        }
      ],
      "source": [
        "import torch\n",
        "import torch.nn as nn\n",
        "import torch.nn.functional as F\n",
        "import torch.optim as optim\n",
        "\n",
        "# Define a simple neural network\n",
        "class Net(nn.Module):\n",
        "    def __init__(self):\n",
        "        super(Net, self).__init__()\n",
        "        self.fc1 = nn.Linear(28*28, 128)   # input layer (784) → hidden layer (128)\n",
        "        self.fc2 = nn.Linear(128, 64)      # hidden layer → hidden layer\n",
        "        self.fc3 = nn.Linear(64, 10)       # hidden layer → output (10 classes)\n",
        "\n",
        "    def forward(self, x):\n",
        "        x = x.view(-1, 28*28)   # flatten 28x28 images into 784 vector\n",
        "        x = F.relu(self.fc1(x))\n",
        "        x = F.relu(self.fc2(x))\n",
        "        x = self.fc3(x)\n",
        "        return x\n",
        "\n",
        "net = Net()\n",
        "print(net)\n"
      ]
    },
    {
      "cell_type": "code",
      "source": [
        "import torchvision\n",
        "import torchvision.transforms as transforms\n",
        "\n",
        "# Transform images to tensors + normalize\n",
        "transform = transforms.Compose([transforms.ToTensor(),\n",
        "                                transforms.Normalize((0.5,), (0.5,))])\n",
        "\n",
        "# Download MNIST dataset\n",
        "trainset = torchvision.datasets.MNIST(root='./data', train=True, download=True, transform=transform)\n",
        "trainloader = torch.utils.data.DataLoader(trainset, batch_size=4, shuffle=True)\n",
        "\n",
        "testset = torchvision.datasets.MNIST(root='./data', train=False, download=True, transform=transform)\n",
        "testloader = torch.utils.data.DataLoader(testset, batch_size=4, shuffle=False)\n"
      ],
      "metadata": {
        "colab": {
          "base_uri": "https://localhost:8080/"
        },
        "id": "7IgZUuS2mOIG",
        "outputId": "5f2a8a5b-3b51-4aca-e1b2-e007cb4c239e"
      },
      "execution_count": 3,
      "outputs": [
        {
          "output_type": "stream",
          "name": "stderr",
          "text": [
            "100%|██████████| 9.91M/9.91M [00:00<00:00, 38.2MB/s]\n",
            "100%|██████████| 28.9k/28.9k [00:00<00:00, 1.00MB/s]\n",
            "100%|██████████| 1.65M/1.65M [00:00<00:00, 9.31MB/s]\n",
            "100%|██████████| 4.54k/4.54k [00:00<00:00, 1.59MB/s]\n"
          ]
        }
      ]
    },
    {
      "cell_type": "code",
      "source": [
        "# Define loss function & optimizer\n",
        "criterion = nn.CrossEntropyLoss()\n",
        "optimizer = optim.SGD(net.parameters(), lr=0.01, momentum=0.9)\n",
        "\n",
        "# Training loop (1 epoch for demo)\n",
        "for epoch in range(1):\n",
        "    running_loss = 0.0\n",
        "    for i, data in enumerate(trainloader, 0):\n",
        "        inputs, labels = data\n",
        "\n",
        "        optimizer.zero_grad()   # clear gradients\n",
        "        outputs = net(inputs)   # forward pass\n",
        "        loss = criterion(outputs, labels)   # compute loss\n",
        "        loss.backward()         # backprop\n",
        "        optimizer.step()        # update weights\n",
        "\n",
        "        running_loss += loss.item()\n",
        "        if i % 1000 == 999:    # print every 1000 mini-batches\n",
        "            print(f\"[{epoch+1}, {i+1}] loss: {running_loss/1000:.3f}\")\n",
        "            running_loss = 0.0\n",
        "\n",
        "print(\"Training finished ✅\")\n"
      ],
      "metadata": {
        "colab": {
          "base_uri": "https://localhost:8080/"
        },
        "id": "LsTENBL9l8cu",
        "outputId": "277043c5-aff8-4cf9-a32b-54fa0c65520f"
      },
      "execution_count": 4,
      "outputs": [
        {
          "output_type": "stream",
          "name": "stdout",
          "text": [
            "[1, 1000] loss: 1.294\n",
            "[1, 2000] loss: 1.010\n",
            "[1, 3000] loss: 0.937\n",
            "[1, 4000] loss: 0.949\n",
            "[1, 5000] loss: 1.016\n",
            "[1, 6000] loss: 1.036\n",
            "[1, 7000] loss: 1.056\n",
            "[1, 8000] loss: 1.230\n",
            "[1, 9000] loss: 1.910\n",
            "[1, 10000] loss: 2.390\n",
            "[1, 11000] loss: 2.307\n",
            "[1, 12000] loss: 2.328\n",
            "[1, 13000] loss: 2.307\n",
            "[1, 14000] loss: 2.307\n",
            "[1, 15000] loss: 2.307\n",
            "Training finished ✅\n"
          ]
        }
      ]
    },
    {
      "cell_type": "code",
      "source": [
        "correct = 0\n",
        "total = 0\n",
        "with torch.no_grad():\n",
        "    for data in testloader:\n",
        "        images, labels = data\n",
        "        outputs = net(images)\n",
        "        _, predicted = torch.max(outputs.data, 1)\n",
        "        total += labels.size(0)\n",
        "        correct += (predicted == labels).sum().item()\n",
        "\n",
        "print(f\"Accuracy on 10,000 test images: {100 * correct / total:.2f}%\")\n",
        "\n"
      ],
      "metadata": {
        "colab": {
          "base_uri": "https://localhost:8080/"
        },
        "id": "qSzejv1gmqY4",
        "outputId": "22220c88-eede-420c-8a06-4511ccdcec28"
      },
      "execution_count": 5,
      "outputs": [
        {
          "output_type": "stream",
          "name": "stdout",
          "text": [
            "Accuracy on 10,000 test images: 9.58%\n"
          ]
        }
      ]
    },
    {
      "cell_type": "code",
      "source": [
        "dataiter = iter(testloader)\n",
        "images, labels = next(dataiter)\n",
        "\n",
        "outputs = net(images)\n",
        "_, predicted = torch.max(outputs, 1)\n",
        "\n",
        "imshow(images[0])  # reuse imshow from Day 2\n",
        "print(\"Predicted:\", predicted[0].item(), \"| Actual:\", labels[0].item())\n"
      ],
      "metadata": {
        "colab": {
          "base_uri": "https://localhost:8080/",
          "height": 447
        },
        "id": "yzBxtf9dmzrO",
        "outputId": "1072aa7b-4507-4d11-ac80-93a1112b75b6"
      },
      "execution_count": 10,
      "outputs": [
        {
          "output_type": "display_data",
          "data": {
            "text/plain": [
              "<Figure size 640x480 with 1 Axes>"
            ],
            "image/png": "[encoded data removed]"
          },
          "metadata": {}
        },
        {
          "output_type": "stream",
          "name": "stdout",
          "text": [
            "Predicted: 6 | Actual: 7\n"
          ]
        }
      ]
    },
    {
      "cell_type": "code",
      "source": [],
      "metadata": {
        "id": "ICW43wghnNvh"
      },
      "execution_count": null,
      "outputs": []
    }
  ]
}